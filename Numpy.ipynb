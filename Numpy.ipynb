{
 "cells": [
  {
   "cell_type": "code",
   "execution_count": 1,
   "id": "e0eaaa16",
   "metadata": {},
   "outputs": [
    {
     "name": "stdout",
     "output_type": "stream",
     "text": [
      "1. Null Vector with 1 at the fifth position:\n",
      "[0. 0. 0. 0. 1. 0. 0. 0. 0. 0.]\n",
      "\n",
      "2. Vector with values ranging from 10 to 49:\n",
      "[10 11 12 13 14 15 16 17 18 19 20 21 22 23 24 25 26 27 28 29 30 31 32 33\n",
      " 34 35 36 37 38 39 40 41 42 43 44 45 46 47 48 49]\n",
      "\n",
      "3. 3x3 Matrix with values ranging from 0 to 8:\n",
      "[[0 1 2]\n",
      " [3 4 5]\n",
      " [6 7 8]]\n",
      "\n",
      "4. Indices of non-zero elements in [1,2,0,0,4,0]:\n",
      "(array([0, 1, 4], dtype=int64),)\n",
      "\n",
      "5. Minimum value: 0.0028539543232551923\n",
      "   Maximum value: 0.99696234095145\n",
      "\n",
      "6. Mean value of a random vector of size 30: 0.48652110306460955\n"
     ]
    }
   ],
   "source": [
    "import numpy as np\n",
    "\n",
    "# 1. Create a null vector of size 10 but the fifth value which is 1.\n",
    "null_vector = np.zeros(10)\n",
    "null_vector[4] = 1\n",
    "\n",
    "# 2. Create a vector with values ranging from 10 to 49.\n",
    "vector_range_10_to_49 = np.arange(10, 50)\n",
    "\n",
    "# 3. Create a 3x3 matrix with values ranging from 0 to 8\n",
    "matrix_3x3 = np.arange(9).reshape(3, 3)\n",
    "\n",
    "# 4. Find indices of non-zero elements from [1,2,0,0,4,0]\n",
    "arr = np.array([1, 2, 0, 0, 4, 0])\n",
    "non_zero_indices = np.nonzero(arr)\n",
    "\n",
    "# 5. Create a 10x10 array with random values and find the minimum and maximum values.\n",
    "random_array = np.random.rand(10, 10)\n",
    "min_value = random_array.min()\n",
    "max_value = random_array.max()\n",
    "\n",
    "# 6. Create a random vector of size 30 and find the mean value.\n",
    "random_vector = np.random.rand(30)\n",
    "mean_value = random_vector.mean()\n",
    "\n",
    "# Print the results for each problem\n",
    "print(\"1. Null Vector with 1 at the fifth position:\")\n",
    "print(null_vector)\n",
    "print(\"\\n2. Vector with values ranging from 10 to 49:\")\n",
    "print(vector_range_10_to_49)\n",
    "print(\"\\n3. 3x3 Matrix with values ranging from 0 to 8:\")\n",
    "print(matrix_3x3)\n",
    "print(\"\\n4. Indices of non-zero elements in [1,2,0,0,4,0]:\")\n",
    "print(non_zero_indices)\n",
    "print(\"\\n5. Minimum value:\", min_value)\n",
    "print(\"   Maximum value:\", max_value)\n",
    "print(\"\\n6. Mean value of a random vector of size 30:\", mean_value)\n"
   ]
  },
  {
   "cell_type": "code",
   "execution_count": null,
   "id": "3042f2a0",
   "metadata": {},
   "outputs": [],
   "source": []
  }
 ],
 "metadata": {
  "kernelspec": {
   "display_name": "Python 3 (ipykernel)",
   "language": "python",
   "name": "python3"
  },
  "language_info": {
   "codemirror_mode": {
    "name": "ipython",
    "version": 3
   },
   "file_extension": ".py",
   "mimetype": "text/x-python",
   "name": "python",
   "nbconvert_exporter": "python",
   "pygments_lexer": "ipython3",
   "version": "3.10.9"
  }
 },
 "nbformat": 4,
 "nbformat_minor": 5
}
